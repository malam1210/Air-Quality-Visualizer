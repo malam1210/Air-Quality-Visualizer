{
  "cells":[
    {
      "cell_type":"code",
      "source":[
        "!conda install -c conda-forge folium=0.5.0 --yes\n",
        "import folium \n",
        "print('Folium installed and imported!')"
      ],
      "execution_count":119,
      "outputs":[
        {
          "name":"stdout",
          "text":[
            "Collecting package metadata (current_repodata.json): - \b\b\\ \b\b| \b\b\/ \b\b- \b\b\\ \b\b| \b\b\/ \b\b- \b\b\\ \b\b| \b\b\/ \b\b- \b\b\\ \b\b| \b\b\/ \b\b- \b\b\\ \b\b| \b\b\/ \b\b- \b\b\\ \b\b| \b\b\/ \b\b- \b\b\\ \b\b| \b\b\/ \b\b- \b\b\\ \b\b| \b\b\/ \b\b- \b\b\\ \b\b| \b\b\/ \b\b- \b\b\\ \b\b| \b\b\/ \b\b- \b\b\\ \b\b| \b\b\/ \b\b- \b\b\\ \b\b| \b\b\/ \b\b- \b\b\\ \b\b| \b\b\/ \b\b- \b\b\\ \b\b| \b\b\/ \b\b- \b\b\\ \b\b| \b\b\/ \b\b- \b\b\\ \b\b| \b\b\/ \b\b- \b\b\\ \b\b| \b\b\/ \b\b- \b\b\\ \b\b| \b\b\/ \b\b- \b\b\\ \b\b| \b\bdone\r\n",
            "Solving environment: - \b\b\\ \b\b| \b\b\/ \b\b- \b\b\\ \b\b| \b\b\/ \b\b- \b\b\\ \b\b| \b\b\/ \b\b- \b\b\\ \b\b| \b\b\/ \b\b- \b\b\\ \b\b| \b\b\/ \b\b- \b\b\\ \b\b| \b\b\/ \b\b- \b\b\\ \b\b| \b\b\/ \b\b- \b\b\\ \b\b| \b\b\/ \b\b- \b\b\\ \b\b| \b\b\/ \b\b- \b\b\\ \b\b| \b\b\/ \b\b- \b\b\\ \b\b| \b\b\/ \b\b- \b\b\\ \b\b| \b\b\/ \b\b- \b\b\\ \b\b| \b\b\/ \b\b- \b\b\\ \b\b| \b\b\/ \b\b- \b\b\\ \b\b| \b\b\/ \b\b- \b\b\\ \b\b| \b\b\/ \b\b- \b\b\\ \b\b| \b\b\/ \b\b- \b\b\\ \b\b| \b\b\/ \b\b- \b\b\\ \b\b| \b\b\/ \b\b- \b\b\\ \b\b| \b\b\/ \b\b- \b\b\\ \b\b| \b\b\/ \b\b- \b\b\\ \b\b| \b\b\/ \b\b- \b\b\\ \b\b| \b\b\/ \b\b- \b\b\\ \b\b| \b\b\/ \b\b- \b\b\\ \b\b| \b\b\/ \b\b- \b\b\\ \b\b| \b\b\/ \b\b- \b\b\\ \b\b| \b\b\/ \b\b- \b\b\\ \b\b| \b\b\/ \b\b- \b\b\\ \b\b| \b\b\/ \b\b- \b\b\\ \b\b| \b\bdone\r\n",
            "\r\n",
            "# All requested packages already installed.\r\n",
            "\r\n",
            "Folium installed and imported!\n"
          ],
          "output_type":"stream"
        }
      ],
      "metadata":{
        
      }
    },
    {
      "cell_type":"code",
      "source":[
        "import requests, json\n",
        "import pandas as pp\n",
        "import numpy as np"
      ],
      "execution_count":120,
      "outputs":[
        
      ],
      "metadata":{
        
      }
    },
    {
      "cell_type":"code",
      "source":[
        "pip install zipcodes"
      ],
      "execution_count":155,
      "outputs":[
        {
          "name":"stdout",
          "text":[
            "Requirement already satisfied: zipcodes in \/opt\/anaconda3\/envs\/datalore-user\/lib\/python3.7\/site-packages (1.1.2)\r\n",
            "Note: you may need to restart the kernel to use updated packages.\n"
          ],
          "output_type":"stream"
        }
      ],
      "metadata":{
        
      }
    },
    {
      "cell_type":"code",
      "source":[
        "pip install pgeocode"
      ],
      "execution_count":122,
      "outputs":[
        {
          "name":"stdout",
          "text":[
            "Requirement already satisfied: pgeocode in \/opt\/anaconda3\/envs\/datalore-user\/lib\/python3.7\/site-packages (0.2.1)\r\n",
            "Requirement already satisfied: numpy in \/opt\/anaconda3\/envs\/datalore-user\/lib\/python3.7\/site-packages (from pgeocode) (1.18.1)\r\n",
            "Requirement already satisfied: pandas in \/opt\/anaconda3\/envs\/datalore-user\/lib\/python3.7\/site-packages (from pgeocode) (1.0.1)\r\n",
            "Requirement already satisfied: requests in \/opt\/anaconda3\/envs\/datalore-user\/lib\/python3.7\/site-packages (from pgeocode) (2.22.0)\r\n",
            "Requirement already satisfied: python-dateutil>=2.6.1 in \/opt\/anaconda3\/envs\/datalore-user\/lib\/python3.7\/site-packages (from pandas->pgeocode) (2.8.1)\r\n",
            "Requirement already satisfied: pytz>=2017.2 in \/opt\/anaconda3\/envs\/datalore-user\/lib\/python3.7\/site-packages (from pandas->pgeocode) (2019.3)\r\n",
            "Requirement already satisfied: chardet<3.1.0,>=3.0.2 in \/opt\/anaconda3\/envs\/datalore-user\/lib\/python3.7\/site-packages (from requests->pgeocode) (3.0.4)\r\n",
            "Requirement already satisfied: urllib3!=1.25.0,!=1.25.1,<1.26,>=1.21.1 in \/opt\/anaconda3\/envs\/datalore-user\/lib\/python3.7\/site-packages (from requests->pgeocode) (1.24.2)\r\n",
            "Requirement already satisfied: certifi>=2017.4.17 in \/opt\/anaconda3\/envs\/datalore-user\/lib\/python3.7\/site-packages (from requests->pgeocode) (2020.6.20)\r\n",
            "Requirement already satisfied: idna<2.9,>=2.5 in \/opt\/anaconda3\/envs\/datalore-user\/lib\/python3.7\/site-packages (from requests->pgeocode) (2.8)\r\n",
            "Requirement already satisfied: six>=1.5 in \/opt\/anaconda3\/envs\/datalore-user\/lib\/python3.7\/site-packages (from python-dateutil>=2.6.1->pandas->pgeocode) (1.12.0)\r\n",
            "Note: you may need to restart the kernel to use updated packages.\n"
          ],
          "output_type":"stream"
        }
      ],
      "metadata":{
        
      }
    },
    {
      "cell_type":"code",
      "source":[
        "website1 = \"https:\/\/www.airnowapi.org\/aq\/observation\/zipCode\/current\/?format=application\/json&zipCode=\"\n",
        "website2 = \"&distance=25&API_KEY=85AB1975-5F9F-466E-BF7A-7FAEBF27F2D5\"\n",
        "\n",
        "# returns the air quality for the given zip code for the current date\n",
        "def findAQI(zip):\n",
        "    webFull = website1 + zip + website2\n",
        "    webRequest = requests.get(webFull).json() # []\n",
        "    AQI = 0\n",
        "    if webRequest:\n",
        "        for i in range(len(webRequest)):\n",
        "            \"\"\"\n",
        "            try:\n",
        "                AQI += webRequest[i][\"AQI\"]\n",
        "            except KeyError:\n",
        "                continue\n",
        "            \"\"\"\n",
        "            AQI += webRequest[i][\"AQI\"]\n",
        "        return AQI\/len(webRequest)\n",
        "\n",
        "# print(setZip(\"60047\"))\n",
        "\n",
        "def getLatLong(zip):\n",
        "    webFull = website1 + zip + website2\n",
        "    webRequest = requests.get(webFull).json()\n",
        "    latit = 0\n",
        "    longit = 0\n",
        "    for i in range(len(webRequest)):\n",
        "        latit = webRequest[i][\"Latitude\"]\n",
        "        longit = webRequest[i][\"Longitude\"]\n",
        "    print(latit, longit)\n",
        "    \n",
        "# print(getLatLong(\"60047\"))"
      ],
      "execution_count":189,
      "outputs":[
        
      ],
      "metadata":{
        
      }
    },
    {
      "cell_type":"code",
      "source":[
        "findAQI(\"\")"
      ],
      "execution_count":181,
      "outputs":[
        {
          "data":{
            "text\/plain":[
              "48.0"
            ]
          },
          "metadata":{
            
          },
          "output_type":"display_data"
        }
      ],
      "metadata":{
        
      }
    },
    {
      "cell_type":"code",
      "source":[
        "getLatLong(\"60047\")"
      ],
      "execution_count":182,
      "outputs":[
        {
          "name":"stdout",
          "text":[
            "41.964 -87.659\n"
          ],
          "output_type":"stream"
        }
      ],
      "metadata":{
        
      }
    },
    {
      "cell_type":"code",
      "source":[
        "\"\"\" \n",
        "Various Zip Cocks\n",
        "Washington DC: 20001\n",
        "Chicago, IL: 60016\n",
        "LA, CA: 90001\n",
        "Bumfuck Nowhere, WY: 82007\n",
        "Boston, MA: 02101\n",
        "https:\/\/towardsdatascience.com\/impact-of-covid-19-data-visualization-using-python-6f8e3bdc860b\n",
        "\n",
        "\"\"\""
      ],
      "execution_count":0,
      "outputs":[
        
      ],
      "metadata":{
        
      }
    },
    {
      "cell_type":"code",
      "source":[
        "latitude = 37.0902\n",
        "longitude = -95.7129\n",
        "rondimap = folium.Map(location=[latitude, longitude], zoom_start=4.2069)\n",
        "rondimap"
      ],
      "execution_count":191,
      "outputs":[
        {
          "data":{
            "text\/html":[
              "<div style=\"width:100%;\"><div style=\"position:relative;width:100%;height:0;padding-bottom:60%;\"><span style=\"color:#565656\">Make this Notebook Trusted to load map: File -> Trust Notebook<\/span><iframe src=\"about:blank\" style=\"position:absolute;width:100%;height:100%;left:0;top:0;border:none !important;\" data-html=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 onload=\"this.contentDocument.open();this.contentDocument.write(atob(this.getAttribute('data-html')));this.contentDocument.close();\" allowfullscreen webkitallowfullscreen mozallowfullscreen><\/iframe><\/div><\/div>"
            ]
          },
          "metadata":{
            
          },
          "output_type":"display_data"
        }
      ],
      "metadata":{
        
      }
    },
    {
      "cell_type":"code",
      "source":[
        "#https:\/\/towardsdatascience.com\/data-visualization-with-python-folium-maps-a74231de9ef7\n",
        "#https:\/\/medium.com\/@saidakbarp\/interactive-map-visualization-with-folium-in-python-2e95544d8d9b\n",
        "#https:\/\/github.com\/millbj92\/US-Zip-Codes-JSON\/blob\/master\/USCities.json\n",
        "#https:\/\/github.com\/OpenDataDE\/State-zip-code-GeoJSON\n",
        "# https:\/\/datatofish.com\/dictionary-to-dataframe\/\n"
      ],
      "execution_count":0,
      "outputs":[
        
      ],
      "metadata":{
        
      }
    },
    {
      "cell_type":"code",
      "source":[
        "#changes 3 number zipcode into 5 digit\n",
        "def formatZips(number):\n",
        "    tempString = str(number)\n",
        "    while len(tempString) != 5:\n",
        "        tempString = \"0\" + tempString\n",
        "    return tempString"
      ],
      "execution_count":214,
      "outputs":[
        
      ],
      "metadata":{
        
      }
    },
    {
      "cell_type":"code",
      "source":[
        "formatZips(30)"
      ],
      "execution_count":215,
      "outputs":[
        {
          "data":{
            "text\/plain":[
              "'00030'"
            ]
          },
          "metadata":{
            
          },
          "output_type":"display_data"
        }
      ],
      "metadata":{
        
      }
    },
    {
      "cell_type":"code",
      "source":[
        "#creates a dictionary of zipcodes with AQI values\n",
        "import zipcodes\n",
        "AQIdict = {}\n",
        "# https:\/\/pypi.org\/project\/zipcodes\/\n",
        "for i in range(501, 99950, 1000):\n",
        "    if len(str(i)) != 5:\n",
        "        correctZip = formatZips(i)\n",
        "        if zipcodes.is_real(formatZips(i)):\n",
        "            findAQIResult = findAQI(correctZip)\n",
        "            AQIdict[correctZip] = findAQIResult\n",
        "    else:\n",
        "        findAQIResult = findAQI(str(i))\n",
        "        if zipcodes.is_real(str(i)) and findAQIResult:\n",
        "            AQIdict[i] = findAQIResult\n",
        "\n",
        "AQIdict\n",
        "        "
      ],
      "execution_count":216,
      "outputs":[
        {
          "data":{
            "text\/plain":[
              "{'00501': None,\n",
              " '01501': 43.5,\n",
              " '05501': 35.5,\n",
              " '06501': 26.0,\n",
              " '07501': None,\n",
              " '08501': None,\n",
              " '09501': None,\n",
              " 10501: 32.0,\n",
              " 11501: 33.0,\n",
              " 12501: 42.5,\n",
              " 13501: 42.0,\n",
              " 16501: 39.0,\n",
              " 17501: 36.5,\n",
              " 18501: 35.5,\n",
              " 19501: 36.5,\n",
              " 20501: 30.0,\n",
              " 23501: 15.0,\n",
              " 25501: 20.0,\n",
              " 26501: 28.0,\n",
              " 27501: 20.5,\n",
              " 28501: 29.0,\n",
              " 29501: 38.0,\n",
              " 30501: 14.0,\n",
              " 32501: 28.0,\n",
              " 37501: 20.5,\n",
              " 39501: 32.0,\n",
              " 44501: 38.0,\n",
              " 45501: 35.5,\n",
              " 48501: 24.0,\n",
              " 49501: 24.5,\n",
              " 51501: 85.33333333333333,\n",
              " 53501: 25.0,\n",
              " 54501: 13.0,\n",
              " 56501: 15.5,\n",
              " 57501: 22.0,\n",
              " 58501: 42.333333333333336,\n",
              " 60501: 33.0,\n",
              " 62501: 37.5,\n",
              " 64501: 41.333333333333336,\n",
              " 68501: 47.5,\n",
              " 70501: 24.0,\n",
              " 73501: 27.666666666666668,\n",
              " 76501: 40.0,\n",
              " 77501: 44.5,\n",
              " 78501: 46.5,\n",
              " 80501: 71.33333333333333,\n",
              " 81501: 30.5,\n",
              " 82501: 43.0,\n",
              " 83501: 27.0,\n",
              " 84501: 33.0,\n",
              " 87501: 28.0,\n",
              " 89501: 24.333333333333332,\n",
              " 90501: 36.5,\n",
              " 91501: 53.0,\n",
              " 92501: 50.0,\n",
              " 94501: 19.5,\n",
              " 95501: 15.0,\n",
              " 96501: 19.5,\n",
              " 97501: 20.0,\n",
              " 98501: 12.0,\n",
              " 99501: 13.5}"
            ]
          },
          "metadata":{
            
          },
          "output_type":"display_data"
        }
      ],
      "metadata":{
        
      }
    },
    {
      "cell_type":"code",
      "source":[
        "# This deletes NAN from Dictionary\n",
        "for i in list(AQIdict):\n",
        "    if not AQIdict[i]:\n",
        "        del AQIdict[i]\n",
        "\n",
        "AQIdict     \n",
        "#https:\/\/stackoverflow.com\/questions\/11941817\/how-to-avoid-runtimeerror-dictionary-changed-size-during-iteration-error "
      ],
      "execution_count":226,
      "outputs":[
        {
          "data":{
            "text\/plain":[
              "{'01501': 43.5,\n",
              " '05501': 35.5,\n",
              " '06501': 26.0,\n",
              " 10501: 32.0,\n",
              " 11501: 33.0,\n",
              " 12501: 42.5,\n",
              " 13501: 42.0,\n",
              " 16501: 39.0,\n",
              " 17501: 36.5,\n",
              " 18501: 35.5,\n",
              " 19501: 36.5,\n",
              " 20501: 30.0,\n",
              " 23501: 15.0,\n",
              " 25501: 20.0,\n",
              " 26501: 28.0,\n",
              " 27501: 20.5,\n",
              " 28501: 29.0,\n",
              " 29501: 38.0,\n",
              " 30501: 14.0,\n",
              " 32501: 28.0,\n",
              " 37501: 20.5,\n",
              " 39501: 32.0,\n",
              " 44501: 38.0,\n",
              " 45501: 35.5,\n",
              " 48501: 24.0,\n",
              " 49501: 24.5,\n",
              " 51501: 85.33333333333333,\n",
              " 53501: 25.0,\n",
              " 54501: 13.0,\n",
              " 56501: 15.5,\n",
              " 57501: 22.0,\n",
              " 58501: 42.333333333333336,\n",
              " 60501: 33.0,\n",
              " 62501: 37.5,\n",
              " 64501: 41.333333333333336,\n",
              " 68501: 47.5,\n",
              " 70501: 24.0,\n",
              " 73501: 27.666666666666668,\n",
              " 76501: 40.0,\n",
              " 77501: 44.5,\n",
              " 78501: 46.5,\n",
              " 80501: 71.33333333333333,\n",
              " 81501: 30.5,\n",
              " 82501: 43.0,\n",
              " 83501: 27.0,\n",
              " 84501: 33.0,\n",
              " 87501: 28.0,\n",
              " 89501: 24.333333333333332,\n",
              " 90501: 36.5,\n",
              " 91501: 53.0,\n",
              " 92501: 50.0,\n",
              " 94501: 19.5,\n",
              " 95501: 15.0,\n",
              " 96501: 19.5,\n",
              " 97501: 20.0,\n",
              " 98501: 12.0,\n",
              " 99501: 13.5}"
            ]
          },
          "metadata":{
            
          },
          "output_type":"display_data"
        }
      ],
      "metadata":{
        
      }
    },
    {
      "cell_type":"code",
      "source":[
        "df = pp.DataFrame(list(AQIdict.items()),columns = ['ZipCode','AQI'])\n",
        "print (df)"
      ],
      "execution_count":227,
      "outputs":[
        {
          "name":"stdout",
          "text":[
            "   ZipCode        AQI\n",
            "0    01501  43.500000\n",
            "1    05501  35.500000\n",
            "2    06501  26.000000\n",
            "3    10501  32.000000\n",
            "4    11501  33.000000\n",
            "5    12501  42.500000\n",
            "6    13501  42.000000\n",
            "7    16501  39.000000\n",
            "8    17501  36.500000\n",
            "9    18501  35.500000\n",
            "10   19501  36.500000\n",
            "11   20501  30.000000\n",
            "12   23501  15.000000\n",
            "13   25501  20.000000\n",
            "14   26501  28.000000\n",
            "15   27501  20.500000\n",
            "16   28501  29.000000\n",
            "17   29501  38.000000\n",
            "18   30501  14.000000\n",
            "19   32501  28.000000\n",
            "20   37501  20.500000\n",
            "21   39501  32.000000\n",
            "22   44501  38.000000\n",
            "23   45501  35.500000\n",
            "24   48501  24.000000\n",
            "25   49501  24.500000\n",
            "26   51501  85.333333\n",
            "27   53501  25.000000\n",
            "28   54501  13.000000\n",
            "29   56501  15.500000\n",
            "30   57501  22.000000\n",
            "31   58501  42.333333\n",
            "32   60501  33.000000\n",
            "33   62501  37.500000\n",
            "34   64501  41.333333\n",
            "35   68501  47.500000\n",
            "36   70501  24.000000\n",
            "37   73501  27.666667\n",
            "38   76501  40.000000\n",
            "39   77501  44.500000\n",
            "40   78501  46.500000\n",
            "41   80501  71.333333\n",
            "42   81501  30.500000\n",
            "43   82501  43.000000\n",
            "44   83501  27.000000\n",
            "45   84501  33.000000\n",
            "46   87501  28.000000\n",
            "47   89501  24.333333\n",
            "48   90501  36.500000\n",
            "49   91501  53.000000\n",
            "50   92501  50.000000\n",
            "51   94501  19.500000\n",
            "52   95501  15.000000\n",
            "53   96501  19.500000\n",
            "54   97501  20.000000\n",
            "55   98501  12.000000\n",
            "56   99501  13.500000\n"
          ],
          "output_type":"stream"
        }
      ],
      "metadata":{
        
      }
    },
    {
      "cell_type":"code",
      "source":[
        "import pgeocode\n",
        "nomi = pgeocode.Nominatim('us')\n",
        "latVals, longVals = [], []\n",
        "for k in AQIdict.keys():\n",
        "    latVals.append(nomi.query_postal_code(str(k))[\"latitude\"]), longVals.append(nomi.query_postal_code(str(k))[\"longitude\"])\n",
        "df.insert(2, \"Longitude\", longVals), df.insert(3, \"Latitude\", latVals)\n",
        "print(df)\n",
        "#https:\/\/stackoverflow.com\/questions\/13413590\/how-to-drop-rows-of-pandas-dataframe-whose-value-in-a-certain-column-is-nan"
      ],
      "execution_count":228,
      "outputs":[
        {
          "name":"stdout",
          "text":[
            "   ZipCode        AQI  Longitude  Latitude\n",
            "0    01501  43.500000   -71.8391   42.2055\n",
            "1    05501  35.500000   -71.1842   42.6472\n",
            "2    06501  26.000000   -72.9282   41.3082\n",
            "3    10501  32.000000   -73.7611   41.2946\n",
            "4    11501  33.000000   -73.6398   40.7469\n",
            "5    12501  42.500000   -73.5542   41.8447\n",
            "6    13501  42.000000   -75.2315   43.0871\n",
            "7    16501  39.000000   -80.0860   42.1260\n",
            "8    17501  36.500000   -76.2042   40.1573\n",
            "9    18501  35.500000   -75.6376   41.4019\n",
            "10   19501  36.500000   -76.0577   40.2423\n",
            "11   20501  30.000000   -77.0362   38.8987\n",
            "12   23501  15.000000   -76.2085   36.8959\n",
            "13   25501  20.000000   -81.9840   38.1609\n",
            "14   26501  28.000000   -79.9831   39.6099\n",
            "15   27501  20.500000   -78.7249   35.4897\n",
            "16   28501  29.000000   -77.5860   35.2783\n",
            "17   29501  38.000000   -79.7728   34.1838\n",
            "18   30501  14.000000   -83.8256   34.3073\n",
            "19   32501  28.000000   -87.2248   30.4223\n",
            "20   37501  20.500000   -89.9904   35.1693\n",
            "21   39501  32.000000   -89.0976   30.3826\n",
            "22   44501  38.000000   -80.8029   41.0171\n",
            "23   45501  35.500000   -83.8132   39.9271\n",
            "24   48501  24.000000   -83.7808   42.9659\n",
            "25   49501  24.500000   -85.6291   42.9842\n",
            "26   51501  85.333333   -95.8751   41.2324\n",
            "27   53501  25.000000   -89.0704   42.6055\n",
            "28   54501  13.000000   -89.3866   45.7045\n",
            "29   56501  15.500000   -95.8453   46.8172\n",
            "30   57501  22.000000  -100.3211   44.3695\n",
            "31   58501  42.333333  -100.7837   46.8083\n",
            "32   60501  33.000000   -87.8240   41.7801\n",
            "33   62501  37.500000   -88.8052   39.9340\n",
            "34   64501  41.333333   -94.8385   39.7688\n",
            "35   68501  47.500000   -96.8231   40.8651\n",
            "36   70501  24.000000   -92.0083   30.2361\n",
            "37   73501  27.666667   -98.3698   34.5915\n",
            "38   76501  40.000000   -97.3343   31.0895\n",
            "39   77501  44.500000   -95.2091   29.6911\n",
            "40   78501  46.500000   -98.2359   26.2154\n",
            "41   80501  71.333333  -105.1009   40.1779\n",
            "42   81501  30.500000  -108.5457   39.0783\n",
            "43   82501  43.000000  -108.2024   43.0351\n",
            "44   83501  27.000000  -116.8609   46.3646\n",
            "45   84501  33.000000  -110.8081   39.6020\n",
            "46   87501  28.000000  -105.9821   35.6975\n",
            "47   89501  24.333333  -119.8113   39.5268\n",
            "48   90501  36.500000  -118.3118   33.8268\n",
            "49   91501  53.000000  -118.3009   34.1862\n",
            "50   92501  50.000000  -117.3694   33.9924\n",
            "51   94501  19.500000  -122.2648   37.7706\n",
            "52   95501  15.000000  -124.1573   40.7938\n",
            "53   96501  19.500000        NaN       NaN\n",
            "54   97501  20.000000  -122.9054   42.2818\n",
            "55   98501  12.000000  -122.8763   47.0129\n",
            "56   99501  13.500000  -149.8761   61.2116\n"
          ],
          "output_type":"stream"
        }
      ],
      "metadata":{
        
      }
    },
    {
      "cell_type":"code",
      "source":[
        "print(df)"
      ],
      "execution_count":244,
      "outputs":[
        {
          "ename":"TypeError",
          "evalue":"TypeError: 'method' object is not subscriptable",
          "traceback":[
            "\u001b[0;31m---------------------------------------------------------------------------",
            "Traceback (most recent call last)",
            "    at line 1 in <module>",
            "TypeError: 'method' object is not subscriptable"
          ],
          "output_type":"error"
        }
      ],
      "metadata":{
        
      }
    },
    {
      "cell_type":"code",
      "source":[
        "incidents, labelsList = folium.map.FeatureGroup(), []\n",
        "for lat, lng, in zip(df.Longitude, df.Latitude):\n",
        "    incidents.add_child(\n",
        "        folium.features.CircleMarker(\n",
        "            [lat, lng],\n",
        "            radius=5,\n",
        "            color='yellow',\n",
        "            fill=True,\n",
        "            fill_color='red',\n",
        "            fill_opacity=0.6\n",
        "        )\n",
        "    )\n",
        "latitudes, longitude = list(df.Latitude), list(df.Longitude)\n",
        "for m in range(len(AQIdict)):\n",
        "    labelValue = \"Zip Code: \" + str(df.ZipCode[m]) + \"<br>\" + \" AQI: \" + str(df.AQI[m])\n",
        "    labelsList.append(labelValue)\n",
        "labels = labelsList\n",
        "for lat, lng, label in zip(latitudes, longitude, labels):\n",
        "    folium.Marker([lat, lng], popup=label, icon=folium.Icon(color='red')).add_to(rondimap)    \n",
        "rondimap.add_child(incidents)\n",
        "#https:\/\/stackoverflow.com\/questions\/36202514\/foilum-map-module-trying-to-get-more-options-for-marker-colors"
      ],
      "execution_count":242,
      "outputs":[
        {
          "ename":"AttributeError",
          "evalue":"AttributeError: 'function' object has no attribute 'Longitude'",
          "traceback":[
            "\u001b[0;31m---------------------------------------------------------------------------",
            "Traceback (most recent call last)",
            "    at line 2 in <module>",
            "AttributeError: 'function' object has no attribute 'Longitude'"
          ],
          "output_type":"error"
        }
      ],
      "metadata":{
        
      }
    },
    {
      "cell_type":"code",
      "source":[
        
      ],
      "execution_count":0,
      "outputs":[
        
      ],
      "metadata":{
        
      }
    },
    {
      "cell_type":"code",
      "source":[
        
      ],
      "execution_count":0,
      "outputs":[
        
      ],
      "metadata":{
        
      }
    }
  ],
  "metadata":{
    
  },
  "nbformat":4,
  "nbformat_minor":0
}